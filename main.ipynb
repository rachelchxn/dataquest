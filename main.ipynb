{
 "cells": [
  {
   "cell_type": "code",
   "execution_count": 38,
   "metadata": {},
   "outputs": [],
   "source": [
    "import numpy as np\n",
    "import pandas as pd\n",
    "#import tensorflow as tf\n",
    "from sklearn.model_selection import train_test_split\n",
    "from sklearn.pipeline import make_pipeline "
   ]
  },
  {
   "cell_type": "code",
   "execution_count": 39,
   "metadata": {},
   "outputs": [],
   "source": [
    "def dayOfYear(month, day, year):\n",
    "    daysInMonth = [31, 28, 31, 30, 31, 30, 31, 31, 30, 31, 30, 31]\n",
    "    dayOfYear = sum(daysInMonth[:int(month)-1]) + int(day)\n",
    "    if year % 4 == 0 and (year % 100 != 0 or year % 400 == 0) and dayOfYear > 59:\n",
    "        dayOfYear -= 1\n",
    "    return dayOfYear\n",
    "\n",
    "def preprocessing(df):\n",
    "    \n",
    "    df['ArrivalDayOfYear'] = df.apply(lambda row: dayOfYear(row['ArrivalMonth'], row['ArrivalDate'], row['ArrivalYear']), axis=1)\n",
    "    \n",
    "    df['TotalNights'] = df['NumWeekendNights'] + df['NumWeekNights']\n",
    "\n",
    "    df['TotalGuests'] = df['NumAdults'] + df['NumChildren']\n",
    "    \n",
    "    df['TotalPrice'] = df['AvgRoomPrice'] * df['TotalNights']\n",
    "\n"
   ]
  },
  {
   "cell_type": "code",
   "execution_count": 40,
   "metadata": {},
   "outputs": [
    {
     "name": "stdout",
     "output_type": "stream",
     "text": [
      "       BookingID  LeadTime  ArrivalYear  ArrivalMonth  ArrivalDate  \\\n",
      "0              1        10         2018             3           31   \n",
      "1              2       116         2018             2           28   \n",
      "2              3        11         2018             7           25   \n",
      "3              4         3         2017             9           12   \n",
      "4              5        28         2018             3            7   \n",
      "...          ...       ...          ...           ...          ...   \n",
      "29015      29016         2         2018            11           21   \n",
      "29016      29017        18         2018             4           12   \n",
      "29017      29018         8         2017             9           29   \n",
      "29018      29019        20         2018             9           18   \n",
      "29019      29020       274         2018             7           31   \n",
      "\n",
      "       NumWeekendNights  NumWeekNights  Parking  NumAdults  NumChildren  ...  \\\n",
      "0                     0              1        0          1            0  ...   \n",
      "1                     2              1        0          1            0  ...   \n",
      "2                     1              2        0          2            1  ...   \n",
      "3                     0              1        0          2            0  ...   \n",
      "4                     1              3        0          2            0  ...   \n",
      "...                 ...            ...      ...        ...          ...  ...   \n",
      "29015                 1              2        0          1            0  ...   \n",
      "29016                 0              2        0          2            0  ...   \n",
      "29017                 0              3        0          1            0  ...   \n",
      "29018                 2              2        0          1            0  ...   \n",
      "29019                 2              1        0          2            0  ...   \n",
      "\n",
      "       RoomType_Room_Type 4  RoomType_Room_Type 5  RoomType_Room_Type 6  \\\n",
      "0                         0                     0                     0   \n",
      "1                         0                     0                     0   \n",
      "2                         0                     0                     0   \n",
      "3                         0                     0                     0   \n",
      "4                         0                     0                     0   \n",
      "...                     ...                   ...                   ...   \n",
      "29015                     0                     0                     0   \n",
      "29016                     0                     0                     0   \n",
      "29017                     0                     0                     0   \n",
      "29018                     0                     0                     0   \n",
      "29019                     0                     0                     0   \n",
      "\n",
      "       RoomType_Room_Type 7  MarketSegment_Aviation  \\\n",
      "0                         0                       0   \n",
      "1                         0                       0   \n",
      "2                         0                       0   \n",
      "3                         0                       0   \n",
      "4                         0                       0   \n",
      "...                     ...                     ...   \n",
      "29015                     0                       0   \n",
      "29016                     0                       0   \n",
      "29017                     0                       0   \n",
      "29018                     0                       0   \n",
      "29019                     0                       0   \n",
      "\n",
      "       MarketSegment_Complementary  MarketSegment_Corporate  \\\n",
      "0                                0                        1   \n",
      "1                                0                        0   \n",
      "2                                0                        0   \n",
      "3                                0                        0   \n",
      "4                                0                        0   \n",
      "...                            ...                      ...   \n",
      "29015                            0                        0   \n",
      "29016                            0                        0   \n",
      "29017                            0                        1   \n",
      "29018                            0                        0   \n",
      "29019                            0                        0   \n",
      "\n",
      "       MarketSegment_Offline  MarketSegment_Online  BookingStatus_Not_Canceled  \n",
      "0                          0                     0                           0  \n",
      "1                          0                     1                           0  \n",
      "2                          0                     1                           1  \n",
      "3                          0                     1                           1  \n",
      "4                          1                     0                           1  \n",
      "...                      ...                   ...                         ...  \n",
      "29015                      0                     1                           1  \n",
      "29016                      0                     1                           1  \n",
      "29017                      0                     0                           1  \n",
      "29018                      1                     0                           0  \n",
      "29019                      0                     1                           1  \n",
      "\n",
      "[29020 rows x 36 columns]\n"
     ]
    }
   ],
   "source": [
    "df = pd.read_csv('train_data.csv')\n",
    "preprocessing(df)\n",
    "categories = ['MealPlan', 'RoomType', 'MarketSegment', 'BookingStatus']\n",
    "dummy_vars = pd.get_dummies(df[categories])\n",
    "df = pd.concat([df, dummy_vars], axis=1)\n",
    "df = df.drop(['MealPlan', 'RoomType', 'MarketSegment', 'BookingStatus', 'BookingStatus_Canceled'], axis=1)\n",
    "\n",
    "print(df)"
   ]
  },
  {
   "cell_type": "markdown",
   "metadata": {},
   "source": []
  },
  {
   "cell_type": "code",
   "execution_count": 41,
   "metadata": {},
   "outputs": [],
   "source": [
    "#import seaborn as sns\n",
    "#import matplotlib.pyplot as plt\n",
    "\n",
    "#plt.subplots(figsize=(50, 35))\n",
    "#sns.heatmap(df.corr(), annot=True)\n"
   ]
  },
  {
   "cell_type": "code",
   "execution_count": null,
   "metadata": {},
   "outputs": [],
   "source": []
  },
  {
   "cell_type": "code",
   "execution_count": 42,
   "metadata": {},
   "outputs": [],
   "source": [
    "X = df.drop(['BookingStatus_Not_Canceled', \n",
    "             'BookingID'], axis=1) # features\n",
    "y = df['BookingStatus_Not_Canceled'] # target value"
   ]
  },
  {
   "cell_type": "code",
   "execution_count": 43,
   "metadata": {},
   "outputs": [],
   "source": [
    "X_train, X_test, y_train, y_test = train_test_split(X, y, test_size=0.2)"
   ]
  },
  {
   "cell_type": "code",
   "execution_count": 44,
   "metadata": {},
   "outputs": [
    {
     "data": {
      "text/plain": [
       "array([[4.000e+00, 2.018e+03, 4.000e+00, ..., 0.000e+00, 0.000e+00,\n",
       "        1.000e+00],\n",
       "       [6.000e+01, 2.018e+03, 9.000e+00, ..., 0.000e+00, 0.000e+00,\n",
       "        1.000e+00],\n",
       "       [1.020e+02, 2.017e+03, 1.000e+01, ..., 0.000e+00, 1.000e+00,\n",
       "        0.000e+00],\n",
       "       ...,\n",
       "       [1.300e+02, 2.018e+03, 9.000e+00, ..., 0.000e+00, 0.000e+00,\n",
       "        1.000e+00],\n",
       "       [1.910e+02, 2.018e+03, 6.000e+00, ..., 0.000e+00, 0.000e+00,\n",
       "        1.000e+00],\n",
       "       [9.700e+01, 2.018e+03, 1.000e+01, ..., 0.000e+00, 1.000e+00,\n",
       "        0.000e+00]])"
      ]
     },
     "execution_count": 44,
     "metadata": {},
     "output_type": "execute_result"
    }
   ],
   "source": [
    "X_train.values"
   ]
  },
  {
   "cell_type": "code",
   "execution_count": 45,
   "metadata": {},
   "outputs": [],
   "source": [
    "from sklearn.preprocessing import StandardScaler \n",
    "from sklearn.linear_model import LogisticRegression, RidgeClassifier\n",
    "from sklearn.ensemble import RandomForestClassifier, GradientBoostingClassifier\n",
    "from sklearn.svm import SVC\n",
    "\n",
    "pipelines = {\n",
    "    'logistic regression:':make_pipeline(StandardScaler(), LogisticRegression()),\n",
    "    'ridge classifier:':make_pipeline(StandardScaler(), RidgeClassifier()),\n",
    "    'random forest classifier:':make_pipeline(StandardScaler(), RandomForestClassifier()),\n",
    "    'gradient boosting classifier:':make_pipeline(StandardScaler(), GradientBoostingClassifier()),\n",
    "    'SVM:':make_pipeline(StandardScaler(), SVC())\n",
    "}"
   ]
  },
  {
   "cell_type": "code",
   "execution_count": 46,
   "metadata": {},
   "outputs": [
    {
     "name": "stderr",
     "output_type": "stream",
     "text": [
      "C:\\Users\\xande\\AppData\\Local\\Packages\\PythonSoftwareFoundation.Python.3.10_qbz5n2kfra8p0\\LocalCache\\local-packages\\Python310\\site-packages\\sklearn\\linear_model\\_logistic.py:458: ConvergenceWarning: lbfgs failed to converge (status=1):\n",
      "STOP: TOTAL NO. of ITERATIONS REACHED LIMIT.\n",
      "\n",
      "Increase the number of iterations (max_iter) or scale the data as shown in:\n",
      "    https://scikit-learn.org/stable/modules/preprocessing.html\n",
      "Please also refer to the documentation for alternative solver options:\n",
      "    https://scikit-learn.org/stable/modules/linear_model.html#logistic-regression\n",
      "  n_iter_i = _check_optimize_result(\n"
     ]
    }
   ],
   "source": [
    "fit_models = {}\n",
    "for algo, pipeline in pipelines.items():\n",
    "    model = pipeline.fit(X_train.values, y_train)\n",
    "    fit_models[algo] = model"
   ]
  },
  {
   "cell_type": "code",
   "execution_count": 47,
   "metadata": {},
   "outputs": [
    {
     "name": "stderr",
     "output_type": "stream",
     "text": [
      "C:\\Users\\xande\\AppData\\Local\\Packages\\PythonSoftwareFoundation.Python.3.10_qbz5n2kfra8p0\\LocalCache\\local-packages\\Python310\\site-packages\\sklearn\\base.py:432: UserWarning: X has feature names, but StandardScaler was fitted without feature names\n",
      "  warnings.warn(\n",
      "C:\\Users\\xande\\AppData\\Local\\Packages\\PythonSoftwareFoundation.Python.3.10_qbz5n2kfra8p0\\LocalCache\\local-packages\\Python310\\site-packages\\sklearn\\base.py:432: UserWarning: X has feature names, but StandardScaler was fitted without feature names\n",
      "  warnings.warn(\n",
      "C:\\Users\\xande\\AppData\\Local\\Packages\\PythonSoftwareFoundation.Python.3.10_qbz5n2kfra8p0\\LocalCache\\local-packages\\Python310\\site-packages\\sklearn\\base.py:432: UserWarning: X has feature names, but StandardScaler was fitted without feature names\n",
      "  warnings.warn(\n",
      "C:\\Users\\xande\\AppData\\Local\\Packages\\PythonSoftwareFoundation.Python.3.10_qbz5n2kfra8p0\\LocalCache\\local-packages\\Python310\\site-packages\\sklearn\\base.py:432: UserWarning: X has feature names, but StandardScaler was fitted without feature names\n",
      "  warnings.warn(\n",
      "C:\\Users\\xande\\AppData\\Local\\Packages\\PythonSoftwareFoundation.Python.3.10_qbz5n2kfra8p0\\LocalCache\\local-packages\\Python310\\site-packages\\sklearn\\base.py:432: UserWarning: X has feature names, but StandardScaler was fitted without feature names\n",
      "  warnings.warn(\n"
     ]
    },
    {
     "name": "stdout",
     "output_type": "stream",
     "text": [
      "logistic regression: 0.8087525844245348\n",
      "ridge classifier: 0.8023776705720193\n",
      "random forest classifier: 0.8976567884217781\n",
      "gradient boosting classifier: 0.8544107512060648\n",
      "SVM: 0.8368366643694004\n"
     ]
    }
   ],
   "source": [
    "from sklearn.metrics import accuracy_score # Accuracy metrics \n",
    "for algo, model in fit_models.items():\n",
    "    yhat = model.predict(X_test)\n",
    "    print(algo, accuracy_score(y_test, yhat))"
   ]
  }
 ],
 "metadata": {
  "kernelspec": {
   "display_name": "Python 3",
   "language": "python",
   "name": "python3"
  },
  "language_info": {
   "codemirror_mode": {
    "name": "ipython",
    "version": 3
   },
   "file_extension": ".py",
   "mimetype": "text/x-python",
   "name": "python",
   "nbconvert_exporter": "python",
   "pygments_lexer": "ipython3",
   "version": "3.10.10"
  },
  "orig_nbformat": 4
 },
 "nbformat": 4,
 "nbformat_minor": 2
}
