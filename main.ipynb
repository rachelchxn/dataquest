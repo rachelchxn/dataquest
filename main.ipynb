{
 "cells": [
  {
   "cell_type": "code",
   "execution_count": 197,
   "metadata": {},
   "outputs": [],
   "source": [
    "import numpy as np\n",
    "import pandas as pd\n",
    "#import tensorflow as tf\n",
    "from sklearn.model_selection import train_test_split\n",
    "from sklearn.pipeline import make_pipeline "
   ]
  },
  {
   "cell_type": "code",
   "execution_count": 198,
   "metadata": {},
   "outputs": [],
   "source": [
    "def dayOfYear(month, day, year):\n",
    "    daysInMonth = [31, 28, 31, 30, 31, 30, 31, 31, 30, 31, 30, 31]\n",
    "    dayOfYear = sum(daysInMonth[:int(month)-1]) + int(day)\n",
    "    if year % 4 == 0 and (year % 100 != 0 or year % 400 == 0) and dayOfYear > 59:\n",
    "        dayOfYear -= 1\n",
    "    return dayOfYear\n",
    "\n",
    "def preprocessing(df):\n",
    "    \n",
    "    df['ArrivalDayOfYear'] = df.apply(lambda row: dayOfYear(row['ArrivalMonth'], row['ArrivalDate'], row['ArrivalYear']), axis=1)\n",
    "    \n",
    "    df['TotalNights'] = df['NumWeekendNights'] + df['NumWeekNights']\n",
    "\n",
    "    df['TotalGuests'] = df['NumAdults'] + df['NumChildren']\n",
    "    \n",
    "    df['TotalPrice'] = df['AvgRoomPrice'] * df['TotalNights']\n",
    "    \n",
    "    categories = ['MealPlan', 'RoomType', 'MarketSegment', 'BookingStatus']\n",
    "    dummy_vars = pd.get_dummies(df[categories])\n",
    "    df = pd.concat([df, dummy_vars], axis=1)\n",
    "    df = df.drop(['MealPlan', 'RoomType', 'MarketSegment', 'BookingStatus', 'BookingStatus_Canceled'], axis=1)\n",
    "\n"
   ]
  },
  {
   "cell_type": "code",
   "execution_count": 199,
   "metadata": {},
   "outputs": [
    {
     "name": "stdout",
     "output_type": "stream",
     "text": [
      "       BookingID  LeadTime  ArrivalYear  ArrivalMonth  ArrivalDate  \\\n",
      "0              1        10         2018             3           31   \n",
      "1              2       116         2018             2           28   \n",
      "2              3        11         2018             7           25   \n",
      "3              4         3         2017             9           12   \n",
      "4              5        28         2018             3            7   \n",
      "...          ...       ...          ...           ...          ...   \n",
      "29015      29016         2         2018            11           21   \n",
      "29016      29017        18         2018             4           12   \n",
      "29017      29018         8         2017             9           29   \n",
      "29018      29019        20         2018             9           18   \n",
      "29019      29020       274         2018             7           31   \n",
      "\n",
      "       NumWeekendNights  NumWeekNights  Parking  NumAdults  NumChildren  ...  \\\n",
      "0                     0              1        0          1            0  ...   \n",
      "1                     2              1        0          1            0  ...   \n",
      "2                     1              2        0          2            1  ...   \n",
      "3                     0              1        0          2            0  ...   \n",
      "4                     1              3        0          2            0  ...   \n",
      "...                 ...            ...      ...        ...          ...  ...   \n",
      "29015                 1              2        0          1            0  ...   \n",
      "29016                 0              2        0          2            0  ...   \n",
      "29017                 0              3        0          1            0  ...   \n",
      "29018                 2              2        0          1            0  ...   \n",
      "29019                 2              1        0          2            0  ...   \n",
      "\n",
      "       RoomType_Room_Type 4  RoomType_Room_Type 5  RoomType_Room_Type 6  \\\n",
      "0                         0                     0                     0   \n",
      "1                         0                     0                     0   \n",
      "2                         0                     0                     0   \n",
      "3                         0                     0                     0   \n",
      "4                         0                     0                     0   \n",
      "...                     ...                   ...                   ...   \n",
      "29015                     0                     0                     0   \n",
      "29016                     0                     0                     0   \n",
      "29017                     0                     0                     0   \n",
      "29018                     0                     0                     0   \n",
      "29019                     0                     0                     0   \n",
      "\n",
      "       RoomType_Room_Type 7  MarketSegment_Aviation  \\\n",
      "0                         0                       0   \n",
      "1                         0                       0   \n",
      "2                         0                       0   \n",
      "3                         0                       0   \n",
      "4                         0                       0   \n",
      "...                     ...                     ...   \n",
      "29015                     0                       0   \n",
      "29016                     0                       0   \n",
      "29017                     0                       0   \n",
      "29018                     0                       0   \n",
      "29019                     0                       0   \n",
      "\n",
      "       MarketSegment_Complementary  MarketSegment_Corporate  \\\n",
      "0                                0                        1   \n",
      "1                                0                        0   \n",
      "2                                0                        0   \n",
      "3                                0                        0   \n",
      "4                                0                        0   \n",
      "...                            ...                      ...   \n",
      "29015                            0                        0   \n",
      "29016                            0                        0   \n",
      "29017                            0                        1   \n",
      "29018                            0                        0   \n",
      "29019                            0                        0   \n",
      "\n",
      "       MarketSegment_Offline  MarketSegment_Online  BookingStatus_Not_Canceled  \n",
      "0                          0                     0                           0  \n",
      "1                          0                     1                           0  \n",
      "2                          0                     1                           1  \n",
      "3                          0                     1                           1  \n",
      "4                          1                     0                           1  \n",
      "...                      ...                   ...                         ...  \n",
      "29015                      0                     1                           1  \n",
      "29016                      0                     1                           1  \n",
      "29017                      0                     0                           1  \n",
      "29018                      1                     0                           0  \n",
      "29019                      0                     1                           1  \n",
      "\n",
      "[29020 rows x 36 columns]\n"
     ]
    }
   ],
   "source": [
    "df = pd.read_csv('train_data.csv')\n",
    "preprocessing(df)\n",
    "\n",
    "\n",
    "print(df)"
   ]
  },
  {
   "cell_type": "markdown",
   "metadata": {},
   "source": []
  },
  {
   "cell_type": "code",
   "execution_count": 213,
   "metadata": {},
   "outputs": [
    {
     "ename": "KeyError",
     "evalue": "'Price'",
     "output_type": "error",
     "traceback": [
      "\u001b[1;31m---------------------------------------------------------------------------\u001b[0m",
      "\u001b[1;31mKeyError\u001b[0m                                  Traceback (most recent call last)",
      "File \u001b[1;32m~\\AppData\\Local\\Packages\\PythonSoftwareFoundation.Python.3.10_qbz5n2kfra8p0\\LocalCache\\local-packages\\Python310\\site-packages\\pandas\\core\\indexes\\base.py:3802\u001b[0m, in \u001b[0;36mIndex.get_loc\u001b[1;34m(self, key, method, tolerance)\u001b[0m\n\u001b[0;32m   3801\u001b[0m \u001b[39mtry\u001b[39;00m:\n\u001b[1;32m-> 3802\u001b[0m     \u001b[39mreturn\u001b[39;00m \u001b[39mself\u001b[39;49m\u001b[39m.\u001b[39;49m_engine\u001b[39m.\u001b[39;49mget_loc(casted_key)\n\u001b[0;32m   3803\u001b[0m \u001b[39mexcept\u001b[39;00m \u001b[39mKeyError\u001b[39;00m \u001b[39mas\u001b[39;00m err:\n",
      "File \u001b[1;32m~\\AppData\\Local\\Packages\\PythonSoftwareFoundation.Python.3.10_qbz5n2kfra8p0\\LocalCache\\local-packages\\Python310\\site-packages\\pandas\\_libs\\index.pyx:138\u001b[0m, in \u001b[0;36mpandas._libs.index.IndexEngine.get_loc\u001b[1;34m()\u001b[0m\n",
      "File \u001b[1;32m~\\AppData\\Local\\Packages\\PythonSoftwareFoundation.Python.3.10_qbz5n2kfra8p0\\LocalCache\\local-packages\\Python310\\site-packages\\pandas\\_libs\\index.pyx:165\u001b[0m, in \u001b[0;36mpandas._libs.index.IndexEngine.get_loc\u001b[1;34m()\u001b[0m\n",
      "File \u001b[1;32mpandas\\_libs\\hashtable_class_helper.pxi:5745\u001b[0m, in \u001b[0;36mpandas._libs.hashtable.PyObjectHashTable.get_item\u001b[1;34m()\u001b[0m\n",
      "File \u001b[1;32mpandas\\_libs\\hashtable_class_helper.pxi:5753\u001b[0m, in \u001b[0;36mpandas._libs.hashtable.PyObjectHashTable.get_item\u001b[1;34m()\u001b[0m\n",
      "\u001b[1;31mKeyError\u001b[0m: 'Price'",
      "\nThe above exception was the direct cause of the following exception:\n",
      "\u001b[1;31mKeyError\u001b[0m                                  Traceback (most recent call last)",
      "Cell \u001b[1;32mIn[213], line 7\u001b[0m\n\u001b[0;32m      1\u001b[0m \u001b[39m#import seaborn as sns\u001b[39;00m\n\u001b[0;32m      2\u001b[0m \u001b[39m#import matplotlib.pyplot as plt\u001b[39;00m\n\u001b[0;32m      3\u001b[0m \n\u001b[0;32m      4\u001b[0m \u001b[39m#plt.subplots(figsize=(50, 35))\u001b[39;00m\n\u001b[0;32m      5\u001b[0m \u001b[39m#sns.heatmap(df.corr(), annot=True)\u001b[39;00m\n\u001b[1;32m----> 7\u001b[0m \u001b[39mprint\u001b[39m(df[\u001b[39m\"\u001b[39m\u001b[39mBookingStatus_Not_Canceled\u001b[39m\u001b[39m\"\u001b[39m]\u001b[39m.\u001b[39mcorr(df[\u001b[39m\"\u001b[39;49m\u001b[39mPrice\u001b[39;49m\u001b[39m\"\u001b[39;49m]))\n",
      "File \u001b[1;32m~\\AppData\\Local\\Packages\\PythonSoftwareFoundation.Python.3.10_qbz5n2kfra8p0\\LocalCache\\local-packages\\Python310\\site-packages\\pandas\\core\\frame.py:3807\u001b[0m, in \u001b[0;36mDataFrame.__getitem__\u001b[1;34m(self, key)\u001b[0m\n\u001b[0;32m   3805\u001b[0m \u001b[39mif\u001b[39;00m \u001b[39mself\u001b[39m\u001b[39m.\u001b[39mcolumns\u001b[39m.\u001b[39mnlevels \u001b[39m>\u001b[39m \u001b[39m1\u001b[39m:\n\u001b[0;32m   3806\u001b[0m     \u001b[39mreturn\u001b[39;00m \u001b[39mself\u001b[39m\u001b[39m.\u001b[39m_getitem_multilevel(key)\n\u001b[1;32m-> 3807\u001b[0m indexer \u001b[39m=\u001b[39m \u001b[39mself\u001b[39;49m\u001b[39m.\u001b[39;49mcolumns\u001b[39m.\u001b[39;49mget_loc(key)\n\u001b[0;32m   3808\u001b[0m \u001b[39mif\u001b[39;00m is_integer(indexer):\n\u001b[0;32m   3809\u001b[0m     indexer \u001b[39m=\u001b[39m [indexer]\n",
      "File \u001b[1;32m~\\AppData\\Local\\Packages\\PythonSoftwareFoundation.Python.3.10_qbz5n2kfra8p0\\LocalCache\\local-packages\\Python310\\site-packages\\pandas\\core\\indexes\\base.py:3804\u001b[0m, in \u001b[0;36mIndex.get_loc\u001b[1;34m(self, key, method, tolerance)\u001b[0m\n\u001b[0;32m   3802\u001b[0m     \u001b[39mreturn\u001b[39;00m \u001b[39mself\u001b[39m\u001b[39m.\u001b[39m_engine\u001b[39m.\u001b[39mget_loc(casted_key)\n\u001b[0;32m   3803\u001b[0m \u001b[39mexcept\u001b[39;00m \u001b[39mKeyError\u001b[39;00m \u001b[39mas\u001b[39;00m err:\n\u001b[1;32m-> 3804\u001b[0m     \u001b[39mraise\u001b[39;00m \u001b[39mKeyError\u001b[39;00m(key) \u001b[39mfrom\u001b[39;00m \u001b[39merr\u001b[39;00m\n\u001b[0;32m   3805\u001b[0m \u001b[39mexcept\u001b[39;00m \u001b[39mTypeError\u001b[39;00m:\n\u001b[0;32m   3806\u001b[0m     \u001b[39m# If we have a listlike key, _check_indexing_error will raise\u001b[39;00m\n\u001b[0;32m   3807\u001b[0m     \u001b[39m#  InvalidIndexError. Otherwise we fall through and re-raise\u001b[39;00m\n\u001b[0;32m   3808\u001b[0m     \u001b[39m#  the TypeError.\u001b[39;00m\n\u001b[0;32m   3809\u001b[0m     \u001b[39mself\u001b[39m\u001b[39m.\u001b[39m_check_indexing_error(key)\n",
      "\u001b[1;31mKeyError\u001b[0m: 'Price'"
     ]
    }
   ],
   "source": [
    "#import seaborn as sns\n",
    "#import matplotlib.pyplot as plt\n",
    "\n",
    "#plt.subplots(figsize=(50, 35))\n",
    "#sns.heatmap(df.corr(), annot=True)\n",
    "\n",
    "print(df[\"BookingStatus_Not_Canceled\"].corr(df[\"\"]))\n"
   ]
  },
  {
   "cell_type": "code",
   "execution_count": null,
   "metadata": {},
   "outputs": [],
   "source": []
  },
  {
   "cell_type": "code",
   "execution_count": 201,
   "metadata": {},
   "outputs": [],
   "source": [
    "X = df.drop(['BookingStatus_Not_Canceled', \n",
    "             'BookingID'], axis=1) # features\n",
    "y = df['BookingStatus_Not_Canceled'] # target value"
   ]
  },
  {
   "cell_type": "code",
   "execution_count": 202,
   "metadata": {},
   "outputs": [],
   "source": [
    "X_train, X_test, y_train, y_test = train_test_split(X, y, test_size=0.2)"
   ]
  },
  {
   "cell_type": "code",
   "execution_count": 203,
   "metadata": {},
   "outputs": [
    {
     "data": {
      "text/plain": [
       "array([[2.800e+01, 2.018e+03, 1.100e+01, ..., 0.000e+00, 0.000e+00,\n",
       "        1.000e+00],\n",
       "       [1.070e+02, 2.018e+03, 1.000e+01, ..., 0.000e+00, 1.000e+00,\n",
       "        0.000e+00],\n",
       "       [3.400e+01, 2.017e+03, 9.000e+00, ..., 0.000e+00, 1.000e+00,\n",
       "        0.000e+00],\n",
       "       ...,\n",
       "       [4.500e+01, 2.018e+03, 8.000e+00, ..., 0.000e+00, 0.000e+00,\n",
       "        1.000e+00],\n",
       "       [8.700e+01, 2.018e+03, 5.000e+00, ..., 0.000e+00, 1.000e+00,\n",
       "        0.000e+00],\n",
       "       [3.100e+01, 2.018e+03, 9.000e+00, ..., 0.000e+00, 0.000e+00,\n",
       "        1.000e+00]])"
      ]
     },
     "execution_count": 203,
     "metadata": {},
     "output_type": "execute_result"
    }
   ],
   "source": [
    "X_train.values"
   ]
  },
  {
   "cell_type": "code",
   "execution_count": 204,
   "metadata": {},
   "outputs": [],
   "source": [
    "from sklearn.preprocessing import StandardScaler \n",
    "from sklearn.linear_model import LogisticRegression, RidgeClassifier\n",
    "from sklearn.ensemble import RandomForestClassifier, GradientBoostingClassifier, AdaBoostClassifier\n",
    "from sklearn.svm import SVC\n",
    "\n",
    "\n",
    "\n",
    "pipelines = {\n",
    "    'logistic regression:':make_pipeline(StandardScaler(), LogisticRegression()),\n",
    "    'ridge classifier:':make_pipeline(StandardScaler(), RidgeClassifier()),\n",
    "    'random forest classifier:':make_pipeline(StandardScaler(), RandomForestClassifier()),\n",
    "    'gradient boosting classifier:':make_pipeline(StandardScaler(), GradientBoostingClassifier()),\n",
    "    'SVM:':make_pipeline(StandardScaler(), SVC()),\n",
    "    'Bagging:':make_pipeline(StandardScaler(), AdaBoostClassifier())\n",
    "\n",
    "}"
   ]
  },
  {
   "cell_type": "code",
   "execution_count": 205,
   "metadata": {},
   "outputs": [
    {
     "name": "stderr",
     "output_type": "stream",
     "text": [
      "C:\\Users\\xande\\AppData\\Local\\Packages\\PythonSoftwareFoundation.Python.3.10_qbz5n2kfra8p0\\LocalCache\\local-packages\\Python310\\site-packages\\sklearn\\linear_model\\_logistic.py:458: ConvergenceWarning: lbfgs failed to converge (status=1):\n",
      "STOP: TOTAL NO. of ITERATIONS REACHED LIMIT.\n",
      "\n",
      "Increase the number of iterations (max_iter) or scale the data as shown in:\n",
      "    https://scikit-learn.org/stable/modules/preprocessing.html\n",
      "Please also refer to the documentation for alternative solver options:\n",
      "    https://scikit-learn.org/stable/modules/linear_model.html#logistic-regression\n",
      "  n_iter_i = _check_optimize_result(\n"
     ]
    }
   ],
   "source": [
    "fit_models = {}\n",
    "for algo, pipeline in pipelines.items():\n",
    "    model = pipeline.fit(X_train.values, y_train)\n",
    "    fit_models[algo] = model"
   ]
  },
  {
   "cell_type": "code",
   "execution_count": 206,
   "metadata": {},
   "outputs": [
    {
     "name": "stderr",
     "output_type": "stream",
     "text": [
      "C:\\Users\\xande\\AppData\\Local\\Packages\\PythonSoftwareFoundation.Python.3.10_qbz5n2kfra8p0\\LocalCache\\local-packages\\Python310\\site-packages\\sklearn\\base.py:432: UserWarning: X has feature names, but StandardScaler was fitted without feature names\n",
      "  warnings.warn(\n",
      "C:\\Users\\xande\\AppData\\Local\\Packages\\PythonSoftwareFoundation.Python.3.10_qbz5n2kfra8p0\\LocalCache\\local-packages\\Python310\\site-packages\\sklearn\\base.py:432: UserWarning: X has feature names, but StandardScaler was fitted without feature names\n",
      "  warnings.warn(\n",
      "C:\\Users\\xande\\AppData\\Local\\Packages\\PythonSoftwareFoundation.Python.3.10_qbz5n2kfra8p0\\LocalCache\\local-packages\\Python310\\site-packages\\sklearn\\base.py:432: UserWarning: X has feature names, but StandardScaler was fitted without feature names\n",
      "  warnings.warn(\n",
      "C:\\Users\\xande\\AppData\\Local\\Packages\\PythonSoftwareFoundation.Python.3.10_qbz5n2kfra8p0\\LocalCache\\local-packages\\Python310\\site-packages\\sklearn\\base.py:432: UserWarning: X has feature names, but StandardScaler was fitted without feature names\n",
      "  warnings.warn(\n",
      "C:\\Users\\xande\\AppData\\Local\\Packages\\PythonSoftwareFoundation.Python.3.10_qbz5n2kfra8p0\\LocalCache\\local-packages\\Python310\\site-packages\\sklearn\\base.py:432: UserWarning: X has feature names, but StandardScaler was fitted without feature names\n",
      "  warnings.warn(\n"
     ]
    },
    {
     "name": "stdout",
     "output_type": "stream",
     "text": [
      "logistic regression: 0.8063404548587181\n",
      "ridge classifier: 0.8003101309441765\n",
      "random forest classifier: 0.9011026878015161\n",
      "gradient boosting classifier: 0.8561337008959339\n",
      "SVM: 0.8366643694004136\n",
      "Bagging: 0.8161612680909718\n"
     ]
    },
    {
     "name": "stderr",
     "output_type": "stream",
     "text": [
      "C:\\Users\\xande\\AppData\\Local\\Packages\\PythonSoftwareFoundation.Python.3.10_qbz5n2kfra8p0\\LocalCache\\local-packages\\Python310\\site-packages\\sklearn\\base.py:432: UserWarning: X has feature names, but StandardScaler was fitted without feature names\n",
      "  warnings.warn(\n"
     ]
    }
   ],
   "source": [
    "from sklearn.metrics import accuracy_score # Accuracy metrics \n",
    "for algo, model in fit_models.items():\n",
    "    yhat = model.predict(X_test)\n",
    "    print(algo, accuracy_score(y_test, yhat))"
   ]
  }
 ],
 "metadata": {
  "kernelspec": {
   "display_name": "Python 3",
   "language": "python",
   "name": "python3"
  },
  "language_info": {
   "codemirror_mode": {
    "name": "ipython",
    "version": 3
   },
   "file_extension": ".py",
   "mimetype": "text/x-python",
   "name": "python",
   "nbconvert_exporter": "python",
   "pygments_lexer": "ipython3",
   "version": "3.10.10"
  },
  "orig_nbformat": 4
 },
 "nbformat": 4,
 "nbformat_minor": 2
}
